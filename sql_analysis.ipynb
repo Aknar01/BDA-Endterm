{
 "cells": [
  {
   "cell_type": "code",
   "execution_count": 1,
   "id": "762e2ac1-caa4-46bb-88b7-11ae6802a296",
   "metadata": {},
   "outputs": [],
   "source": [
    "import sqlite3\n",
    "import pandas as pd\n",
    "# Connecting to the database\n",
    "conn = sqlite3.connect('data.db')"
   ]
  },
  {
   "cell_type": "code",
   "execution_count": 2,
   "id": "acb971fe-01e3-4305-8155-38db2917f79a",
   "metadata": {},
   "outputs": [
    {
     "data": {
      "text/plain": [
       "226872"
      ]
     },
     "execution_count": 2,
     "metadata": {},
     "output_type": "execute_result"
    }
   ],
   "source": [
    "%load_ext sql\n",
    "%sql sqlite:///data.db\n",
    "df = pd.read_csv(r\"NYPD_Arrest_Data__Year_to_Date__20240225.csv\")\n",
    "df.to_sql(\"law_enforcement\", conn)"
   ]
  },
  {
   "cell_type": "code",
   "execution_count": 3,
   "id": "51c436f0-e5f4-48bb-bab3-ef039d69e9b1",
   "metadata": {},
   "outputs": [
    {
     "name": "stdout",
     "output_type": "stream",
     "text": [
      " * sqlite:///data.db\n",
      "Done.\n"
     ]
    },
    {
     "data": {
      "text/html": [
       "<table>\n",
       "    <thead>\n",
       "        <tr>\n",
       "            <th>index</th>\n",
       "            <th>ARREST_KEY</th>\n",
       "            <th>ARREST_DATE</th>\n",
       "            <th>PD_CD</th>\n",
       "            <th>PD_DESC</th>\n",
       "            <th>KY_CD</th>\n",
       "            <th>OFNS_DESC</th>\n",
       "            <th>LAW_CODE</th>\n",
       "            <th>LAW_CAT_CD</th>\n",
       "            <th>ARREST_BORO</th>\n",
       "            <th>ARREST_PRECINCT</th>\n",
       "            <th>JURISDICTION_CODE</th>\n",
       "            <th>AGE_GROUP</th>\n",
       "            <th>PERP_SEX</th>\n",
       "            <th>PERP_RACE</th>\n",
       "            <th>X_COORD_CD</th>\n",
       "            <th>Y_COORD_CD</th>\n",
       "            <th>Latitude</th>\n",
       "            <th>Longitude</th>\n",
       "            <th>New Georeferenced Column</th>\n",
       "        </tr>\n",
       "    </thead>\n",
       "    <tbody>\n",
       "        <tr>\n",
       "            <td>0</td>\n",
       "            <td>261265483</td>\n",
       "            <td>01/03/2023</td>\n",
       "            <td>397.0</td>\n",
       "            <td>ROBBERY,OPEN AREA UNCLASSIFIED</td>\n",
       "            <td>105.0</td>\n",
       "            <td>ROBBERY</td>\n",
       "            <td>PL 1600500</td>\n",
       "            <td>F</td>\n",
       "            <td>B</td>\n",
       "            <td>49</td>\n",
       "            <td>0</td>\n",
       "            <td>18-24</td>\n",
       "            <td>M</td>\n",
       "            <td>BLACK</td>\n",
       "            <td>1027430</td>\n",
       "            <td>251104</td>\n",
       "            <td>40.855793</td>\n",
       "            <td>-73.843908</td>\n",
       "            <td>POINT (-73.843908 40.855793)</td>\n",
       "        </tr>\n",
       "        <tr>\n",
       "            <td>1</td>\n",
       "            <td>261271301</td>\n",
       "            <td>01/03/2023</td>\n",
       "            <td>105.0</td>\n",
       "            <td>STRANGULATION 1ST</td>\n",
       "            <td>106.0</td>\n",
       "            <td>FELONY ASSAULT</td>\n",
       "            <td>PL 1211200</td>\n",
       "            <td>F</td>\n",
       "            <td>S</td>\n",
       "            <td>120</td>\n",
       "            <td>0</td>\n",
       "            <td>25-44</td>\n",
       "            <td>M</td>\n",
       "            <td>WHITE</td>\n",
       "            <td>962808</td>\n",
       "            <td>174275</td>\n",
       "            <td>40.644996</td>\n",
       "            <td>-74.077263</td>\n",
       "            <td>POINT (-74.077263 40.644996)</td>\n",
       "        </tr>\n",
       "        <tr>\n",
       "            <td>2</td>\n",
       "            <td>261336449</td>\n",
       "            <td>01/04/2023</td>\n",
       "            <td>397.0</td>\n",
       "            <td>ROBBERY,OPEN AREA UNCLASSIFIED</td>\n",
       "            <td>105.0</td>\n",
       "            <td>ROBBERY</td>\n",
       "            <td>PL 1601001</td>\n",
       "            <td>F</td>\n",
       "            <td>K</td>\n",
       "            <td>61</td>\n",
       "            <td>0</td>\n",
       "            <td>&lt;18</td>\n",
       "            <td>M</td>\n",
       "            <td>BLACK</td>\n",
       "            <td>995118</td>\n",
       "            <td>155708</td>\n",
       "            <td>40.594054</td>\n",
       "            <td>-73.960866</td>\n",
       "            <td>POINT (-73.960866 40.594054)</td>\n",
       "        </tr>\n",
       "        <tr>\n",
       "            <td>3</td>\n",
       "            <td>261328047</td>\n",
       "            <td>01/04/2023</td>\n",
       "            <td>105.0</td>\n",
       "            <td>STRANGULATION 1ST</td>\n",
       "            <td>106.0</td>\n",
       "            <td>FELONY ASSAULT</td>\n",
       "            <td>PL 1211200</td>\n",
       "            <td>F</td>\n",
       "            <td>Q</td>\n",
       "            <td>114</td>\n",
       "            <td>0</td>\n",
       "            <td>18-24</td>\n",
       "            <td>M</td>\n",
       "            <td>BLACK</td>\n",
       "            <td>1007694</td>\n",
       "            <td>219656</td>\n",
       "            <td>40.769552</td>\n",
       "            <td>-73.915361</td>\n",
       "            <td>POINT (-73.915361 40.769552)</td>\n",
       "        </tr>\n",
       "        <tr>\n",
       "            <td>4</td>\n",
       "            <td>261417496</td>\n",
       "            <td>01/05/2023</td>\n",
       "            <td>244.0</td>\n",
       "            <td>BURGLARY,UNCLASSIFIED,UNKNOWN</td>\n",
       "            <td>107.0</td>\n",
       "            <td>BURGLARY</td>\n",
       "            <td>PL 1402000</td>\n",
       "            <td>F</td>\n",
       "            <td>B</td>\n",
       "            <td>44</td>\n",
       "            <td>0</td>\n",
       "            <td>25-44</td>\n",
       "            <td>F</td>\n",
       "            <td>BLACK</td>\n",
       "            <td>1007174</td>\n",
       "            <td>239542</td>\n",
       "            <td>40.824135</td>\n",
       "            <td>-73.91717</td>\n",
       "            <td>POINT (-73.91717 40.824135)</td>\n",
       "        </tr>\n",
       "    </tbody>\n",
       "</table>"
      ],
      "text/plain": [
       "[(0, 261265483, '01/03/2023', 397.0, 'ROBBERY,OPEN AREA UNCLASSIFIED', 105.0, 'ROBBERY', 'PL 1600500', 'F', 'B', 49, 0, '18-24', 'M', 'BLACK', 1027430, 251104, 40.855793, -73.843908, 'POINT (-73.843908 40.855793)'),\n",
       " (1, 261271301, '01/03/2023', 105.0, 'STRANGULATION 1ST', 106.0, 'FELONY ASSAULT', 'PL 1211200', 'F', 'S', 120, 0, '25-44', 'M', 'WHITE', 962808, 174275, 40.644996, -74.077263, 'POINT (-74.077263 40.644996)'),\n",
       " (2, 261336449, '01/04/2023', 397.0, 'ROBBERY,OPEN AREA UNCLASSIFIED', 105.0, 'ROBBERY', 'PL 1601001', 'F', 'K', 61, 0, '<18', 'M', 'BLACK', 995118, 155708, 40.594054, -73.960866, 'POINT (-73.960866 40.594054)'),\n",
       " (3, 261328047, '01/04/2023', 105.0, 'STRANGULATION 1ST', 106.0, 'FELONY ASSAULT', 'PL 1211200', 'F', 'Q', 114, 0, '18-24', 'M', 'BLACK', 1007694, 219656, 40.769552, -73.915361, 'POINT (-73.915361 40.769552)'),\n",
       " (4, 261417496, '01/05/2023', 244.0, 'BURGLARY,UNCLASSIFIED,UNKNOWN', 107.0, 'BURGLARY', 'PL 1402000', 'F', 'B', 44, 0, '25-44', 'F', 'BLACK', 1007174, 239542, 40.824135, -73.91717, 'POINT (-73.91717 40.824135)')]"
      ]
     },
     "execution_count": 3,
     "metadata": {},
     "output_type": "execute_result"
    }
   ],
   "source": [
    "%sql SELECT * FROM law_enforcement limit 5"
   ]
  },
  {
   "cell_type": "code",
   "execution_count": 7,
   "id": "c49c9ecf-349c-420e-ac5d-1349d82a2040",
   "metadata": {},
   "outputs": [
    {
     "name": "stdout",
     "output_type": "stream",
     "text": [
      "Total arrests: 226872\n"
     ]
    }
   ],
   "source": [
    "# Correcting the table name in queries to match the table name used in to_sql\n",
    "# 1. Retrieving the total number of arrests\n",
    "total_arrests_query = \"SELECT COUNT(*) FROM law_enforcement;\"\n",
    "total_arrests = pd.read_sql_query(total_arrests_query, conn)\n",
    "print(f\"Total arrests: {total_arrests.iloc[0,0]}\")\n"
   ]
  },
  {
   "cell_type": "code",
   "execution_count": 14,
   "id": "09d43fc5-4391-47e2-ba39-cb90bdb53d5b",
   "metadata": {},
   "outputs": [
    {
     "name": "stdout",
     "output_type": "stream",
     "text": [
      "The most frequent type of crime leading to arrests:   Most_Frequent_Crime  Total_Count\n",
      "0           ASSAULT 3        24744\n"
     ]
    }
   ],
   "source": [
    "# Retrieve the most frequent type of crime leading to arrests\n",
    "most_frequent_crime_query = \"\"\"\n",
    "SELECT pd_desc AS Most_Frequent_Crime, COUNT(*) AS Total_Count\n",
    "FROM law_enforcement\n",
    "GROUP BY pd_desc\n",
    "ORDER BY Total_Count DESC\n",
    "LIMIT 1;\n",
    "\"\"\"\n",
    "\n",
    "# Execute the query and store the result\n",
    "most_frequent_crime_result = pd.read_sql_query(most_frequent_crime_query, conn)\n",
    "\n",
    "# Print the result\n",
    "print(\"The most frequent type of crime leading to arrests:\", most_frequent_crime_result)\n"
   ]
  },
  {
   "cell_type": "code",
   "execution_count": 15,
   "id": "1051b7a3-f98d-4fb5-a0c6-3aa4413849ec",
   "metadata": {},
   "outputs": [
    {
     "name": "stdout",
     "output_type": "stream",
     "text": [
      "Borough with the highest number of arrests in 2021: Empty DataFrame\n",
      "Columns: [Borough, Total_Arrests]\n",
      "Index: []\n"
     ]
    }
   ],
   "source": [
    "# Identify the borough with the highest number of arrests within a specific period\n",
    "most_arrests_borough_query = \"\"\"\n",
    "SELECT arrest_boro AS Borough, COUNT(*) AS Total_Arrests\n",
    "FROM law_enforcement\n",
    "WHERE arrest_date BETWEEN '2021-01-01' AND '2021-12-31'\n",
    "GROUP BY arrest_boro\n",
    "ORDER BY Total_Arrests DESC\n",
    "LIMIT 1;\n",
    "\"\"\"\n",
    "\n",
    "# Execute the query and store the result\n",
    "most_arrests_borough_result = pd.read_sql_query(most_arrests_borough_query, conn)\n",
    "\n",
    "# Print the result\n",
    "print(\"Borough with the highest number of arrests in 2021:\", most_arrests_borough_result)\n"
   ]
  },
  {
   "cell_type": "code",
   "execution_count": 16,
   "id": "bd6c9bab-36d7-4296-84b9-db63f3f835ec",
   "metadata": {},
   "outputs": [
    {
     "name": "stdout",
     "output_type": "stream",
     "text": [
      "Number of arrests involving young individuals in borough M: 0\n"
     ]
    }
   ],
   "source": [
    "# Count arrests of individuals in the youth age group in a specific borough\n",
    "youth_arrests_query = \"\"\"\n",
    "SELECT COUNT(*) AS Youth_Arrest_Count\n",
    "FROM law_enforcement\n",
    "WHERE age_group = 'Y' AND arrest_boro = 'M';\n",
    "\"\"\"\n",
    "\n",
    "# Execute the query and store the result\n",
    "youth_arrests_result = pd.read_sql_query(youth_arrests_query, conn)\n",
    "\n",
    "# Extract the count from the result and print\n",
    "youth_arrest_count = youth_arrests_result.iloc[0, 0]\n",
    "print(\"Number of arrests involving young individuals in borough M:\", youth_arrest_count)\n"
   ]
  },
  {
   "cell_type": "code",
   "execution_count": null,
   "id": "1742c0d7-9237-4f49-b734-36117cb07446",
   "metadata": {},
   "outputs": [],
   "source": []
  }
 ],
 "metadata": {
  "kernelspec": {
   "display_name": "Python 3 (ipykernel)",
   "language": "python",
   "name": "python3"
  },
  "language_info": {
   "codemirror_mode": {
    "name": "ipython",
    "version": 3
   },
   "file_extension": ".py",
   "mimetype": "text/x-python",
   "name": "python",
   "nbconvert_exporter": "python",
   "pygments_lexer": "ipython3",
   "version": "3.12.0"
  }
 },
 "nbformat": 4,
 "nbformat_minor": 5
}
