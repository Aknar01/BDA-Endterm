{
 "cells": [
  {
   "cell_type": "code",
   "execution_count": 1,
   "id": "3a7474d2-b0f8-4603-987e-e5ae4cb631f4",
   "metadata": {},
   "outputs": [
    {
     "name": "stderr",
     "output_type": "stream",
     "text": [
      "24/02/25 19:10:25 WARN Utils: Your hostname, Aknars-MacBook-Air.local resolves to a loopback address: 127.0.0.1; using 192.168.0.20 instead (on interface en0)\n",
      "24/02/25 19:10:25 WARN Utils: Set SPARK_LOCAL_IP if you need to bind to another address\n",
      "Setting default log level to \"WARN\".\n",
      "To adjust logging level use sc.setLogLevel(newLevel). For SparkR, use setLogLevel(newLevel).\n",
      "24/02/25 19:10:26 WARN NativeCodeLoader: Unable to load native-hadoop library for your platform... using builtin-java classes where applicable\n"
     ]
    }
   ],
   "source": [
    "from pyspark.sql import SparkSession\n",
    "\n",
    "spark = SparkSession.builder \\\n",
    "    .appName(\"ArrestAnalysis\") \\\n",
    "    .config(\"spark.master\", \"local\") \\\n",
    "    .getOrCreate()\n"
   ]
  },
  {
   "cell_type": "code",
   "execution_count": 2,
   "id": "f35bba03-2feb-4244-8cef-bd8e4a05da72",
   "metadata": {},
   "outputs": [],
   "source": [
    "# Assuming the data is already uploaded in CSV format and accessible either in HDFS or the local file system\n",
    "path = \"NYPD_Arrest_Data__Year_to_Date__20240225.csv\"\n"
   ]
  },
  {
   "cell_type": "code",
   "execution_count": 3,
   "id": "e76be294-f9a9-46ec-8325-31c2ac5bbfaf",
   "metadata": {},
   "outputs": [],
   "source": [
    "# Reading data into an RDD\n",
    "rdd = spark.sparkContext.textFile(path)\n",
    "\n",
    "# Skipping the title\n",
    "header = rdd.first()\n",
    "rdd = rdd.filter(lambda line: line != header)\n"
   ]
  },
  {
   "cell_type": "code",
   "execution_count": 4,
   "id": "6d518ffb-1eb8-42e2-9cb4-f8fd478e252e",
   "metadata": {},
   "outputs": [],
   "source": [
    "def parseLine(line):\n",
    "    fields = line.split(',')\n",
    "    try:\n",
    "        age_group = fields[11]  # Assuming the age group is in the 12th column\n",
    "        arrest_boro = fields[8]  # Assuming the area of arrest is in the 9th column\n",
    "        offense_type = fields[5]  # Assuming the type of crime is in the 6th column\n",
    "        return offense_type, (arrest_boro, age_group, 1)\n",
    "    except IndexError:\n",
    "        return ()\n"
   ]
  },
  {
   "cell_type": "code",
   "execution_count": 5,
   "id": "b4cbfb46-3b44-4792-bd48-c214f3c6bcdc",
   "metadata": {},
   "outputs": [],
   "source": [
    "# Data processing\n",
    "parsedData = rdd.map(parseLine).filter(lambda x: x)\n",
    "\n",
    "# Aggregating data by crime type and counting cases by boroughs and age groups\n",
    "offenseSummary = parsedData.map(lambda x: (x[0], x[1][2])).reduceByKey(lambda x, y: x + y)\n"
   ]
  },
  {
   "cell_type": "code",
   "execution_count": 6,
   "id": "fb038de6-8108-481e-9289-22eab3c04498",
   "metadata": {},
   "outputs": [
    {
     "name": "stdout",
     "output_type": "stream",
     "text": [
      "Top 5 crimes by number of arrests:\n",
      "('ASSAULT 3 & RELATED OFFENSES', 28055)\n",
      "('\"', 23820)\n",
      "('UNCLASSIFIED\"', 15498)\n",
      "('348', 11925)\n",
      "('105', 11071)\n"
     ]
    }
   ],
   "source": [
    "# Conclusion: Identifying the top 5 most frequent crimes\n",
    "topOffenses = offenseSummary.takeOrdered(5, key=lambda x: -x[1])\n",
    "print(\"Top 5 crimes by number of arrests:\")\n",
    "for offense in topOffenses:\n",
    "    print(offense)\n"
   ]
  },
  {
   "cell_type": "code",
   "execution_count": null,
   "id": "63c8717a-ee94-4aff-b09f-1ca5cedd0d7f",
   "metadata": {},
   "outputs": [],
   "source": []
  }
 ],
 "metadata": {
  "kernelspec": {
   "display_name": "Python 3 (ipykernel)",
   "language": "python",
   "name": "python3"
  },
  "language_info": {
   "codemirror_mode": {
    "name": "ipython",
    "version": 3
   },
   "file_extension": ".py",
   "mimetype": "text/x-python",
   "name": "python",
   "nbconvert_exporter": "python",
   "pygments_lexer": "ipython3",
   "version": "3.12.0"
  }
 },
 "nbformat": 4,
 "nbformat_minor": 5
}
